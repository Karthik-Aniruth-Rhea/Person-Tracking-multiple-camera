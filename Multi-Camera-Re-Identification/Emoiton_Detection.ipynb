{
 "cells": [
  {
   "cell_type": "code",
   "execution_count": 2,
   "metadata": {},
   "outputs": [],
   "source": [
    "import pandas as pd\n",
    "import numpy as np\n",
    "import matplotlib.pyplot as plt\n",
    "import seaborn as sns\n",
    "import plotly.express as px\n",
    "\n",
    "\n",
    "import tensorflow as tf\n",
    "from tensorflow.keras.preprocessing.image import ImageDataGenerator\n",
    "from tensorflow.keras.utils import to_categorical\n",
    "\n",
    "from sklearn.metrics import confusion_matrix , classification_report \n",
    "from sklearn.preprocessing import LabelBinarizer\n",
    "from sklearn.metrics import roc_curve, auc, roc_auc_score\n",
    "\n",
    "from IPython.display import clear_output\n",
    "import warnings\n",
    "warnings.filterwarnings('ignore')"
   ]
  },
  {
   "cell_type": "code",
   "execution_count": 3,
   "metadata": {},
   "outputs": [],
   "source": [
    "train_dir = r\"D:\\CVHackathon\\archive\\train\"\n",
    "test_dir = r\"D:\\CVHackathon\\archive\\test\"\n",
    "\n",
    "SEED = 12\n",
    "IMG_HEIGHT = 48\n",
    "IMG_WIDTH = 48\n",
    "BATCH_SIZE = 64\n",
    "EPOCHS = 30\n",
    "FINE_TUNING_EPOCHS = 20\n",
    "LR = 0.01\n",
    "NUM_CLASSES = 7\n",
    "EARLY_STOPPING_CRITERIA=3\n",
    "CLASS_LABELS  = ['Anger', 'Disgust', 'Fear', 'Happy', 'Neutral', 'Sadness', \"Surprise\"]"
   ]
  },
  {
   "cell_type": "code",
   "execution_count": 4,
   "metadata": {},
   "outputs": [
    {
     "name": "stdout",
     "output_type": "stream",
     "text": [
      "Found 22968 images belonging to 7 classes.\n",
      "Found 5741 images belonging to 7 classes.\n",
      "Found 7178 images belonging to 7 classes.\n"
     ]
    }
   ],
   "source": [
    "preprocess_fun = tf.keras.applications.densenet.preprocess_input\n",
    "\n",
    "train_datagen = ImageDataGenerator(horizontal_flip=True,\n",
    "                                   width_shift_range=0.1,\n",
    "                                   height_shift_range=0.05,\n",
    "                                   rescale = 1./255,\n",
    "                                   validation_split = 0.2,\n",
    "                                   preprocessing_function=preprocess_fun\n",
    "                                  )\n",
    "test_datagen = ImageDataGenerator(rescale = 1./255,\n",
    "                                  validation_split = 0.2,\n",
    "                                  preprocessing_function=preprocess_fun)\n",
    "\n",
    "train_generator = train_datagen.flow_from_directory(directory = train_dir,\n",
    "                                                    target_size = (IMG_HEIGHT ,IMG_WIDTH),\n",
    "                                                    batch_size = BATCH_SIZE,\n",
    "                                                    shuffle  = True , \n",
    "                                                    color_mode = \"rgb\",\n",
    "                                                    class_mode = \"categorical\",\n",
    "                                                    subset = \"training\",\n",
    "                                                    seed = 12\n",
    "                                                   )\n",
    "\n",
    "validation_generator = test_datagen.flow_from_directory(directory = train_dir,\n",
    "                                                         target_size = (IMG_HEIGHT ,IMG_WIDTH),\n",
    "                                                         batch_size = BATCH_SIZE,\n",
    "                                                         shuffle  = True , \n",
    "                                                         color_mode = \"rgb\",\n",
    "                                                         class_mode = \"categorical\",\n",
    "                                                         subset = \"validation\",\n",
    "                                                         seed = 12\n",
    "                                                        )\n",
    "\n",
    "test_generator = test_datagen.flow_from_directory(directory = test_dir,\n",
    "                                                   target_size = (IMG_HEIGHT ,IMG_WIDTH),\n",
    "                                                    batch_size = BATCH_SIZE,\n",
    "                                                    shuffle  = False , \n",
    "                                                    color_mode = \"rgb\",\n",
    "                                                    class_mode = \"categorical\",\n",
    "                                                    seed = 12\n",
    "                                                  )"
   ]
  },
  {
   "cell_type": "code",
   "execution_count": 5,
   "metadata": {},
   "outputs": [],
   "source": [
    "img_datagen = ImageDataGenerator(rescale = 1./255)\n",
    "img_generator = img_datagen.flow_from_directory(directory = train_dir,\n",
    "                                                   target_size = (IMG_HEIGHT ,IMG_WIDTH),\n",
    "                                                    batch_size = BATCH_SIZE,\n",
    "                                                    shuffle  = True , \n",
    "                                                    color_mode = \"rgb\",\n",
    "                                                    class_mode = \"categorical\",\n",
    "                                                    seed = 12\n",
    "                                                  )\n",
    "clear_output()"
   ]
  },
  {
   "cell_type": "code",
   "execution_count": 6,
   "metadata": {},
   "outputs": [],
   "source": [
    "def feature_extractor(inputs):\n",
    "    feature_extractor = tf.keras.applications.DenseNet169(input_shape=(IMG_HEIGHT,IMG_WIDTH, 3),\n",
    "                                               include_top=False,\n",
    "                                               weights=\"imagenet\")(inputs)\n",
    "    \n",
    "    return feature_extractor\n",
    "\n",
    "def classifier(inputs):\n",
    "    x = tf.keras.layers.GlobalAveragePooling2D()(inputs)\n",
    "    x = tf.keras.layers.Dense(256, activation=\"relu\", kernel_regularizer = tf.keras.regularizers.l2(0.01))(x)\n",
    "    x = tf.keras.layers.Dropout(0.3)(x)\n",
    "    x = tf.keras.layers.Dense(1024, activation=\"relu\", kernel_regularizer = tf.keras.regularizers.l2(0.01))(x)\n",
    "    x = tf.keras.layers.Dropout(0.5)(x)\n",
    "    x = tf.keras.layers.Dense(512, activation=\"relu\", kernel_regularizer = tf.keras.regularizers.l2(0.01))(x)\n",
    "    x = tf.keras.layers.Dropout(0.5) (x)\n",
    "    x = tf.keras.layers.Dense(NUM_CLASSES, activation=\"softmax\", name=\"classification\")(x)\n",
    "    \n",
    "    return x\n",
    "\n",
    "def final_model(inputs):\n",
    "    densenet_feature_extractor = feature_extractor(inputs)\n",
    "    classification_output = classifier(densenet_feature_extractor)\n",
    "    \n",
    "    return classification_output\n",
    "\n",
    "def define_compile_model():\n",
    "    \n",
    "    inputs = tf.keras.layers.Input(shape=(IMG_HEIGHT ,IMG_WIDTH,3))\n",
    "    classification_output = final_model(inputs) \n",
    "    model = tf.keras.Model(inputs=inputs, outputs = classification_output)\n",
    "     \n",
    "    model.compile(optimizer=tf.keras.optimizers.SGD(0.1), \n",
    "                loss='categorical_crossentropy',\n",
    "                metrics = ['accuracy'])\n",
    "  \n",
    "    return model\n"
   ]
  },
  {
   "cell_type": "code",
   "execution_count": 7,
   "metadata": {},
   "outputs": [
    {
     "name": "stdout",
     "output_type": "stream",
     "text": [
      "Model: \"model\"\n",
      "_________________________________________________________________\n",
      " Layer (type)                Output Shape              Param #   \n",
      "=================================================================\n"
     ]
    },
    {
     "name": "stdout",
     "output_type": "stream",
     "text": [
      " input_1 (InputLayer)        [(None, 48, 48, 3)]       0         \n",
      "                                                                 \n",
      " densenet169 (Functional)    (None, 1, 1, 1664)        12642880  \n",
      "                                                                 \n",
      " global_average_pooling2d (  (None, 1664)              0         \n",
      " GlobalAveragePooling2D)                                         \n",
      "                                                                 \n",
      " dense (Dense)               (None, 256)               426240    \n",
      "                                                                 \n",
      " dropout (Dropout)           (None, 256)               0         \n",
      "                                                                 \n",
      " dense_1 (Dense)             (None, 1024)              263168    \n",
      "                                                                 \n",
      " dropout_1 (Dropout)         (None, 1024)              0         \n",
      "                                                                 \n",
      " dense_2 (Dense)             (None, 512)               524800    \n",
      "                                                                 \n",
      " dropout_2 (Dropout)         (None, 512)               0         \n",
      "                                                                 \n",
      " classification (Dense)      (None, 7)                 3591      \n",
      "                                                                 \n",
      "=================================================================\n",
      "Total params: 13860679 (52.87 MB)\n",
      "Trainable params: 1217799 (4.65 MB)\n",
      "Non-trainable params: 12642880 (48.23 MB)\n",
      "_________________________________________________________________\n"
     ]
    }
   ],
   "source": [
    "model = define_compile_model()\n",
    "clear_output()\n",
    "\n",
    "# Feezing the feature extraction layers\n",
    "model.layers[1].trainable = False\n",
    "\n",
    "model.summary()"
   ]
  },
  {
   "cell_type": "code",
   "execution_count": 9,
   "metadata": {},
   "outputs": [
    {
     "name": "stdout",
     "output_type": "stream",
     "text": [
      "Epoch 1/30\n",
      "359/359 [==============================] - 597s 2s/step - loss: 9.1511 - accuracy: 0.3329 - val_loss: 5.3446 - val_accuracy: 0.2116\n",
      "Epoch 2/30\n",
      "359/359 [==============================] - 390s 1s/step - loss: 3.1729 - accuracy: 0.4867 - val_loss: 2.5705 - val_accuracy: 0.3588\n",
      "Epoch 3/30\n",
      "359/359 [==============================] - 387s 1s/step - loss: 1.7236 - accuracy: 0.5323 - val_loss: 1.4480 - val_accuracy: 0.5454\n",
      "Epoch 4/30\n",
      "359/359 [==============================] - 391s 1s/step - loss: 1.3484 - accuracy: 0.5577 - val_loss: 1.2516 - val_accuracy: 0.5807\n",
      "Epoch 5/30\n",
      "359/359 [==============================] - 396s 1s/step - loss: 1.2295 - accuracy: 0.5802 - val_loss: 1.4336 - val_accuracy: 0.4842\n",
      "Epoch 6/30\n",
      "359/359 [==============================] - 351s 979ms/step - loss: 1.1715 - accuracy: 0.5964 - val_loss: 1.4266 - val_accuracy: 0.5212\n",
      "Epoch 7/30\n",
      "359/359 [==============================] - ETA: 0s - loss: 1.1437 - accuracy: 0.6086Restoring model weights from the end of the best epoch: 4.\n",
      "359/359 [==============================] - 388s 1s/step - loss: 1.1437 - accuracy: 0.6086 - val_loss: 1.2667 - val_accuracy: 0.5705\n",
      "Epoch 7: early stopping\n"
     ]
    }
   ],
   "source": [
    "earlyStoppingCallback = tf.keras.callbacks.EarlyStopping(monitor='val_loss', \n",
    "                                                         patience=EARLY_STOPPING_CRITERIA,\n",
    "                                                         verbose= 1 ,\n",
    "                                                         restore_best_weights=True\n",
    "                                                        )\n",
    "\n",
    "with tf.device('/gpu:0'):\n",
    "    history = model.fit(x = train_generator,\n",
    "                    epochs = EPOCHS ,\n",
    "                    validation_data = validation_generator , \n",
    "                    callbacks= [earlyStoppingCallback])\n"
   ]
  },
  {
   "cell_type": "code",
   "execution_count": null,
   "metadata": {},
   "outputs": [],
   "source": [
    "history = pd.DataFrame(history.history)"
   ]
  },
  {
   "cell_type": "code",
   "execution_count": 10,
   "metadata": {},
   "outputs": [],
   "source": [
    "model.save('emotion_epoch_30.h5')"
   ]
  },
  {
   "cell_type": "code",
   "execution_count": 12,
   "metadata": {},
   "outputs": [
    {
     "name": "stdout",
     "output_type": "stream",
     "text": [
      "Epoch 1/20\n",
      "359/359 [==============================] - 421s 1s/step - loss: 1.2008 - accuracy: 0.5974 - val_loss: 1.1956 - val_accuracy: 0.5924\n",
      "Epoch 2/20\n",
      "359/359 [==============================] - 464s 1s/step - loss: 1.1742 - accuracy: 0.6021 - val_loss: 1.1806 - val_accuracy: 0.5971\n",
      "Epoch 3/20\n",
      "359/359 [==============================] - 433s 1s/step - loss: 1.1593 - accuracy: 0.6127 - val_loss: 1.1720 - val_accuracy: 0.5982\n",
      "Epoch 4/20\n",
      "359/359 [==============================] - 634s 2s/step - loss: 1.1480 - accuracy: 0.6141 - val_loss: 1.1647 - val_accuracy: 0.6002\n",
      "Epoch 5/20\n",
      "359/359 [==============================] - 526s 1s/step - loss: 1.1393 - accuracy: 0.6176 - val_loss: 1.1614 - val_accuracy: 0.6011\n",
      "Epoch 6/20\n",
      "359/359 [==============================] - 454s 1s/step - loss: 1.1345 - accuracy: 0.6146 - val_loss: 1.1563 - val_accuracy: 0.6020\n",
      "Epoch 7/20\n",
      "359/359 [==============================] - 557s 2s/step - loss: 1.1303 - accuracy: 0.6210 - val_loss: 1.1522 - val_accuracy: 0.6025\n",
      "Epoch 8/20\n",
      "359/359 [==============================] - 411s 1s/step - loss: 1.1267 - accuracy: 0.6192 - val_loss: 1.1484 - val_accuracy: 0.6043\n",
      "Epoch 9/20\n",
      "359/359 [==============================] - 432s 1s/step - loss: 1.1277 - accuracy: 0.6210 - val_loss: 1.1445 - val_accuracy: 0.6051\n",
      "Epoch 10/20\n",
      "359/359 [==============================] - 531s 1s/step - loss: 1.1134 - accuracy: 0.6243 - val_loss: 1.1409 - val_accuracy: 0.6067\n",
      "Epoch 11/20\n",
      "359/359 [==============================] - 487s 1s/step - loss: 1.1124 - accuracy: 0.6270 - val_loss: 1.1374 - val_accuracy: 0.6083\n",
      "Epoch 12/20\n",
      "359/359 [==============================] - 465s 1s/step - loss: 1.1047 - accuracy: 0.6290 - val_loss: 1.1349 - val_accuracy: 0.6070\n",
      "Epoch 13/20\n",
      "359/359 [==============================] - 506s 1s/step - loss: 1.1024 - accuracy: 0.6269 - val_loss: 1.1319 - val_accuracy: 0.6065\n",
      "Epoch 14/20\n",
      "359/359 [==============================] - 841s 2s/step - loss: 1.0970 - accuracy: 0.6289 - val_loss: 1.1285 - val_accuracy: 0.6069\n",
      "Epoch 15/20\n",
      "359/359 [==============================] - 953s 3s/step - loss: 1.0903 - accuracy: 0.6356 - val_loss: 1.1268 - val_accuracy: 0.6083\n",
      "Epoch 16/20\n",
      "359/359 [==============================] - 661s 2s/step - loss: 1.0824 - accuracy: 0.6326 - val_loss: 1.1250 - val_accuracy: 0.6109\n",
      "Epoch 17/20\n",
      "359/359 [==============================] - 369s 1s/step - loss: 1.0832 - accuracy: 0.6332 - val_loss: 1.1221 - val_accuracy: 0.6137\n",
      "Epoch 18/20\n",
      "359/359 [==============================] - 365s 1s/step - loss: 1.0787 - accuracy: 0.6341 - val_loss: 1.1184 - val_accuracy: 0.6126\n",
      "Epoch 19/20\n",
      "359/359 [==============================] - 386s 1s/step - loss: 1.0810 - accuracy: 0.6324 - val_loss: 1.1169 - val_accuracy: 0.6147\n",
      "Epoch 20/20\n",
      "359/359 [==============================] - 399s 1s/step - loss: 1.0760 - accuracy: 0.6361 - val_loss: 1.1145 - val_accuracy: 0.6144\n"
     ]
    },
    {
     "ename": "AttributeError",
     "evalue": "'History' object has no attribute 'append'",
     "output_type": "error",
     "traceback": [
      "\u001b[1;31m---------------------------------------------------------------------------\u001b[0m",
      "\u001b[1;31mAttributeError\u001b[0m                            Traceback (most recent call last)",
      "\u001b[1;32mUntitled-1.ipynb Cell 10\u001b[0m line \u001b[0;36m9\n\u001b[0;32m      <a href='vscode-notebook-cell:Untitled-1.ipynb?jupyter-notebook#X12sdW50aXRsZWQ%3D?line=3'>4</a>\u001b[0m     model\u001b[39m.\u001b[39mcompile(optimizer\u001b[39m=\u001b[39mtf\u001b[39m.\u001b[39mkeras\u001b[39m.\u001b[39moptimizers\u001b[39m.\u001b[39mSGD(\u001b[39m0.001\u001b[39m), \u001b[39m#lower learning rate\u001b[39;00m\n\u001b[0;32m      <a href='vscode-notebook-cell:Untitled-1.ipynb?jupyter-notebook#X12sdW50aXRsZWQ%3D?line=4'>5</a>\u001b[0m                 loss\u001b[39m=\u001b[39m\u001b[39m'\u001b[39m\u001b[39mcategorical_crossentropy\u001b[39m\u001b[39m'\u001b[39m,\n\u001b[0;32m      <a href='vscode-notebook-cell:Untitled-1.ipynb?jupyter-notebook#X12sdW50aXRsZWQ%3D?line=5'>6</a>\u001b[0m                 metrics \u001b[39m=\u001b[39m [\u001b[39m'\u001b[39m\u001b[39maccuracy\u001b[39m\u001b[39m'\u001b[39m])\n\u001b[0;32m      <a href='vscode-notebook-cell:Untitled-1.ipynb?jupyter-notebook#X12sdW50aXRsZWQ%3D?line=7'>8</a>\u001b[0m history_ \u001b[39m=\u001b[39m model\u001b[39m.\u001b[39mfit(x \u001b[39m=\u001b[39m train_generator,epochs \u001b[39m=\u001b[39m FINE_TUNING_EPOCHS ,validation_data \u001b[39m=\u001b[39m validation_generator)\n\u001b[1;32m----> <a href='vscode-notebook-cell:Untitled-1.ipynb?jupyter-notebook#X12sdW50aXRsZWQ%3D?line=8'>9</a>\u001b[0m history \u001b[39m=\u001b[39m history\u001b[39m.\u001b[39;49mappend(pd\u001b[39m.\u001b[39mDataFrame(history_\u001b[39m.\u001b[39mhistory) , ignore_index\u001b[39m=\u001b[39m\u001b[39mTrue\u001b[39;00m)\n",
      "\u001b[1;31mAttributeError\u001b[0m: 'History' object has no attribute 'append'"
     ]
    }
   ],
   "source": [
    "model.layers[1].trainable = True\n",
    "\n",
    "with tf.device('/gpu:0'):\n",
    "    model.compile(optimizer=tf.keras.optimizers.SGD(0.001), #lower learning rate\n",
    "                loss='categorical_crossentropy',\n",
    "                metrics = ['accuracy'])\n",
    "\n",
    "history_ = model.fit(x = train_generator,epochs = FINE_TUNING_EPOCHS ,validation_data = validation_generator)\n",
    "history = history.append(pd.DataFrame(history_.history) , ignore_index=True)\n"
   ]
  },
  {
   "cell_type": "code",
   "execution_count": 6,
   "metadata": {},
   "outputs": [
    {
     "ename": "NameError",
     "evalue": "name 'model' is not defined",
     "output_type": "error",
     "traceback": [
      "\u001b[1;31m---------------------------------------------------------------------------\u001b[0m",
      "\u001b[1;31mNameError\u001b[0m                                 Traceback (most recent call last)",
      "\u001b[1;32md:\\CVHackathon\\object-tracking-yolov8-deep-sort\\Emoiton_Detection.ipynb Cell 11\u001b[0m line \u001b[0;36m1\n\u001b[1;32m----> <a href='vscode-notebook-cell:/d%3A/CVHackathon/object-tracking-yolov8-deep-sort/Emoiton_Detection.ipynb#X13sZmlsZQ%3D%3D?line=0'>1</a>\u001b[0m model\u001b[39m.\u001b[39msave(\u001b[39m'\u001b[39m\u001b[39memotion_epoch_fine_tuned.h5\u001b[39m\u001b[39m'\u001b[39m)\n",
      "\u001b[1;31mNameError\u001b[0m: name 'model' is not defined"
     ]
    }
   ],
   "source": [
    "model.save('emotion_epoch_fine_tuned.h5')"
   ]
  },
  {
   "cell_type": "code",
   "execution_count": 13,
   "metadata": {},
   "outputs": [
    {
     "data": {
      "text/plain": [
       "<keras.src.engine.functional.Functional at 0x26bc0505a30>"
      ]
     },
     "execution_count": 13,
     "metadata": {},
     "output_type": "execute_result"
    }
   ],
   "source": [
    "model "
   ]
  },
  {
   "cell_type": "code",
   "execution_count": 7,
   "metadata": {},
   "outputs": [],
   "source": [
    "from tensorflow.keras.models import load_model"
   ]
  },
  {
   "cell_type": "code",
   "execution_count": 13,
   "metadata": {},
   "outputs": [],
   "source": [
    "import numpy as np "
   ]
  },
  {
   "cell_type": "code",
   "execution_count": 14,
   "metadata": {},
   "outputs": [],
   "source": [
    "model = load_model(r\"D:\\CVHackathon\\emotion_epoch_fine_tuned.h5\")"
   ]
  },
  {
   "cell_type": "code",
   "execution_count": 15,
   "metadata": {},
   "outputs": [],
   "source": [
    "import cv2 \n",
    "img = cv2.imread(r\"D:\\CVHackathon\\archive\\test\\angry\\im7.png\")\n",
    "out = model(np.expand_dims(img , axis=0 ))"
   ]
  },
  {
   "cell_type": "code",
   "execution_count": 16,
   "metadata": {},
   "outputs": [
    {
     "data": {
      "text/plain": [
       "<tf.Tensor: shape=(1, 7), dtype=float32, numpy=array([[0., 0., 0., 0., 1., 0., 0.]], dtype=float32)>"
      ]
     },
     "execution_count": 16,
     "metadata": {},
     "output_type": "execute_result"
    }
   ],
   "source": [
    "out "
   ]
  },
  {
   "cell_type": "code",
   "execution_count": 17,
   "metadata": {},
   "outputs": [
    {
     "data": {
      "text/plain": [
       "<matplotlib.image.AxesImage at 0x1f7c77c9670>"
      ]
     },
     "execution_count": 17,
     "metadata": {},
     "output_type": "execute_result"
    },
    {
     "data": {
      "image/png": "[encoded data removed]",
      "text/plain": [
       "<Figure size 640x480 with 1 Axes>"
      ]
     },
     "metadata": {},
     "output_type": "display_data"
    }
   ],
   "source": [
    "import matplotlib.pyplot as plt \n",
    "plt.imshow(img)"
   ]
  },
  {
   "cell_type": "code",
   "execution_count": null,
   "metadata": {},
   "outputs": [
    {
     "data": {
      "text/plain": [
       "<tf.Tensor: shape=(1, 7), dtype=float32, numpy=array([[0., 0., 0., 0., 1., 0., 0.]], dtype=float32)>"
      ]
     },
     "execution_count": 26,
     "metadata": {},
     "output_type": "execute_result"
    }
   ],
   "source": [
    "out "
   ]
  },
  {
   "cell_type": "code",
   "execution_count": 5,
   "metadata": {},
   "outputs": [],
   "source": [
    "import numpy as np "
   ]
  },
  {
   "cell_type": "code",
   "execution_count": 6,
   "metadata": {},
   "outputs": [
    {
     "data": {
      "text/plain": [
       "(1, 48, 48, 3)"
      ]
     },
     "execution_count": 6,
     "metadata": {},
     "output_type": "execute_result"
    }
   ],
   "source": [
    "np.expand_dims(img , axis=0 ).shape"
   ]
  },
  {
   "cell_type": "code",
   "execution_count": 9,
   "metadata": {},
   "outputs": [],
   "source": [
    "import cv2 \n",
    "\n",
    "cap = cv2.VideoCapture(0)\n"
   ]
  },
  {
   "cell_type": "code",
   "execution_count": 11,
   "metadata": {},
   "outputs": [
    {
     "name": "stdout",
     "output_type": "stream",
     "text": [
      "tf.Tensor([[0. 0. 0. 0. 1. 0. 0.]], shape=(1, 7), dtype=float32)\n",
      "tf.Tensor([[0. 0. 0. 0. 1. 0. 0.]], shape=(1, 7), dtype=float32)\n",
      "tf.Tensor([[0. 0. 0. 0. 1. 0. 0.]], shape=(1, 7), dtype=float32)\n",
      "tf.Tensor([[0. 0. 0. 0. 1. 0. 0.]], shape=(1, 7), dtype=float32)\n",
      "tf.Tensor([[0. 0. 0. 0. 1. 0. 0.]], shape=(1, 7), dtype=float32)\n",
      "tf.Tensor([[0. 0. 0. 0. 1. 0. 0.]], shape=(1, 7), dtype=float32)\n",
      "tf.Tensor([[0. 0. 0. 0. 1. 0. 0.]], shape=(1, 7), dtype=float32)\n",
      "tf.Tensor([[0. 0. 0. 0. 1. 0. 0.]], shape=(1, 7), dtype=float32)\n",
      "tf.Tensor([[0. 0. 0. 0. 1. 0. 0.]], shape=(1, 7), dtype=float32)\n",
      "tf.Tensor([[0. 0. 0. 0. 1. 0. 0.]], shape=(1, 7), dtype=float32)\n",
      "tf.Tensor([[0. 0. 0. 0. 1. 0. 0.]], shape=(1, 7), dtype=float32)\n",
      "tf.Tensor([[0. 0. 0. 0. 1. 0. 0.]], shape=(1, 7), dtype=float32)\n",
      "tf.Tensor([[0. 0. 0. 0. 1. 0. 0.]], shape=(1, 7), dtype=float32)\n",
      "tf.Tensor([[0. 0. 0. 0. 1. 0. 0.]], shape=(1, 7), dtype=float32)\n",
      "tf.Tensor([[0. 0. 0. 0. 1. 0. 0.]], shape=(1, 7), dtype=float32)\n",
      "tf.Tensor([[0. 0. 0. 0. 1. 0. 0.]], shape=(1, 7), dtype=float32)\n",
      "tf.Tensor([[0. 0. 0. 0. 1. 0. 0.]], shape=(1, 7), dtype=float32)\n",
      "tf.Tensor([[0. 0. 0. 0. 1. 0. 0.]], shape=(1, 7), dtype=float32)\n",
      "tf.Tensor([[0. 0. 0. 0. 1. 0. 0.]], shape=(1, 7), dtype=float32)\n",
      "tf.Tensor([[0. 0. 0. 0. 1. 0. 0.]], shape=(1, 7), dtype=float32)\n",
      "tf.Tensor([[0. 0. 0. 0. 1. 0. 0.]], shape=(1, 7), dtype=float32)\n",
      "tf.Tensor([[0. 0. 0. 0. 1. 0. 0.]], shape=(1, 7), dtype=float32)\n",
      "tf.Tensor([[0. 0. 0. 0. 1. 0. 0.]], shape=(1, 7), dtype=float32)\n",
      "tf.Tensor([[0. 0. 0. 0. 1. 0. 0.]], shape=(1, 7), dtype=float32)\n",
      "tf.Tensor([[0. 0. 0. 0. 1. 0. 0.]], shape=(1, 7), dtype=float32)\n",
      "tf.Tensor([[0. 0. 0. 0. 1. 0. 0.]], shape=(1, 7), dtype=float32)\n"
     ]
    }
   ],
   "source": [
    "while True:\n",
    "\n",
    "    ret , frame = cap.read()\n",
    "\n",
    "    img = cv2.resize(frame, (48, 48))\n",
    "\n",
    "    img = img.reshape(1 , 48 , 48 , 3)\n",
    "\n",
    "\n",
    "    pred = model(img)\n",
    "\n",
    "    print(pred)\n",
    "\n",
    "    #frame = np.expand_dims(frame , axis = 0)\n",
    "\n",
    "\n",
    "    org = (50, 50)\n",
    "\n",
    "    image = cv2.putText(frame, str(pred), org,  cv2.FONT_HERSHEY_SIMPLEX , 3 , (255 , 0 , 0), 2, cv2.LINE_AA)\n",
    "\n",
    "    cv2.imshow('frame' , image)\n",
    "    if cv2.waitKey(1) == ord('q'):\n",
    "        break\n",
    "cap.release()\n",
    "cv2.destroyAllWindows()"
   ]
  },
  {
   "cell_type": "code",
   "execution_count": null,
   "metadata": {},
   "outputs": [],
   "source": []
  }
 ],
 "metadata": {
  "kernelspec": {
   "display_name": "proglint",
   "language": "python",
   "name": "python3"
  },
  "language_info": {
   "codemirror_mode": {
    "name": "ipython",
    "version": 3
   },
   "file_extension": ".py",
   "mimetype": "text/x-python",
   "name": "python",
   "nbconvert_exporter": "python",
   "pygments_lexer": "ipython3",
   "version": "3.9.0"
  },
  "orig_nbformat": 4
 },
 "nbformat": 4,
 "nbformat_minor": 2
}
